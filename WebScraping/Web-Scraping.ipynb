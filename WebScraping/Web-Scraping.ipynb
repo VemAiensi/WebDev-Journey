{
 "cells": [
  {
   "cell_type": "code",
   "execution_count": 4,
   "metadata": {},
   "outputs": [],
   "source": [
    "from bs4 import BeautifulSoup\n",
    "\n",
    "html_doc = \"\"\"<html>\n",
    "<body>\n",
    "<h1>My First Heading</h1>\n",
    "<b><!--This is a comment line--></b>\n",
    "<p title=\"About Me\" class=\"test\">My First paragraph.</p>\n",
    "<div class=\"cities\">\n",
    "<h2>London</h2>\n",
    "</div>\n",
    "</body>\n",
    "</html>\"\"\"\n",
    "\n",
    "soup = BeautifulSoup(html_doc, 'html.parser')"
   ]
  },
  {
   "cell_type": "code",
   "execution_count": 5,
   "metadata": {},
   "outputs": [
    {
     "data": {
      "text/plain": [
       "bs4.BeautifulSoup"
      ]
     },
     "execution_count": 5,
     "metadata": {},
     "output_type": "execute_result"
    }
   ],
   "source": [
    "type(soup)"
   ]
  },
  {
   "cell_type": "code",
   "execution_count": 6,
   "metadata": {},
   "outputs": [
    {
     "name": "stdout",
     "output_type": "stream",
     "text": [
      "<html>\n",
      "<body>\n",
      "<h1>My First Heading</h1>\n",
      "<b><!--This is a comment line--></b>\n",
      "<p class=\"test\" title=\"About Me\">My First paragraph.</p>\n",
      "<div class=\"cities\">\n",
      "<h2>London</h2>\n",
      "</div>\n",
      "</body>\n",
      "</html>\n"
     ]
    }
   ],
   "source": [
    "print(soup)"
   ]
  },
  {
   "cell_type": "code",
   "execution_count": 7,
   "metadata": {},
   "outputs": [
    {
     "data": {
      "text/plain": [
       "bs4.element.Tag"
      ]
     },
     "execution_count": 7,
     "metadata": {},
     "output_type": "execute_result"
    }
   ],
   "source": [
    "tag = soup.p\n",
    "type(tag)"
   ]
  },
  {
   "cell_type": "code",
   "execution_count": 8,
   "metadata": {},
   "outputs": [
    {
     "name": "stdout",
     "output_type": "stream",
     "text": [
      "<p class=\"test\" title=\"About Me\">My First paragraph.</p>\n"
     ]
    }
   ],
   "source": [
    "print(tag)"
   ]
  },
  {
   "cell_type": "code",
   "execution_count": 9,
   "metadata": {},
   "outputs": [
    {
     "data": {
      "text/plain": [
       "bs4.element.Comment"
      ]
     },
     "execution_count": 9,
     "metadata": {},
     "output_type": "execute_result"
    }
   ],
   "source": [
    "comment = soup.b.string\n",
    "type(comment)"
   ]
  },
  {
   "cell_type": "code",
   "execution_count": 10,
   "metadata": {},
   "outputs": [
    {
     "data": {
      "text/plain": [
       "{'title': 'About Me', 'class': ['test']}"
      ]
     },
     "execution_count": 10,
     "metadata": {},
     "output_type": "execute_result"
    }
   ],
   "source": [
    "tag.attrs"
   ]
  },
  {
   "cell_type": "code",
   "execution_count": 11,
   "metadata": {},
   "outputs": [
    {
     "data": {
      "text/plain": [
       "bs4.element.NavigableString"
      ]
     },
     "execution_count": 11,
     "metadata": {},
     "output_type": "execute_result"
    }
   ],
   "source": [
    "type(tag.string)"
   ]
  },
  {
   "cell_type": "code",
   "execution_count": 12,
   "metadata": {},
   "outputs": [],
   "source": [
    "filePath = \"index.html\"\n",
    "with open(filePath, 'r') as weirdHtml:\n",
    "    yummy = BeautifulSoup(weirdHtml, \"html.parser\")"
   ]
  },
  {
   "cell_type": "code",
   "execution_count": 13,
   "metadata": {},
   "outputs": [
    {
     "data": {
      "text/plain": [
       "['html',\n",
       " '\\n',\n",
       " <html>\n",
       " <head>\n",
       " <title>Vibrant Arrow | Home</title>\n",
       " <link href=\"style.css\" rel=\"stylesheet\"/>\n",
       " </head>\n",
       " <body>\n",
       " <header>\n",
       " <nav>\n",
       " <div class=\"SiteTitle\">\n",
       " <img src=\"Assets/LogoV2White.svg\" width=\"50px/\"/>\n",
       " <span>VIBRANT ARROW</span>\n",
       " </div>\n",
       " <div class=\"navi\" id=\"navigator\">\n",
       " <span class=\"viewingPage\">HOME</span>\n",
       " <a href=\"arts.html\"><span class=\"navLink\">ARTS</span></a>\n",
       " <a href=\"about.html\"><span class=\"navLink\">ABOUT</span></a>\n",
       " <a href=\"blogs.html\"><span class=\"navLink\">BLOGS</span></a>\n",
       " </div>\n",
       " </nav>\n",
       " </header>\n",
       " <section class=\"content-section container\">\n",
       " <h2 class=\"section-header\">ABOUT</h2>\n",
       " <img class=\"about-image\" src=\"images/ImComputing-min.gif\" width=\"300\"/>\n",
       " <p>\n",
       "                 Hello there, I'm <strong>Vem</strong>. the founder of this page.\n",
       "             </p>\n",
       " <p>\n",
       "                 This is my journey towards web dev, it has been a couple of days\n",
       "                 but this is still unfinished. I want to make an interactive about\n",
       "                 page where my infos are present.\n",
       "             </p>\n",
       " <p>\n",
       "                 This image here is me trying to learn, one of the recent art I made\n",
       "                 and I want to transform it, or rather remake it to an svg format, as\n",
       "                 it is currently in gif form. The advantages of svg is that its faster\n",
       "                 to processed by web and it is previewed as calculated vectors, instead\n",
       "                 of gifs which uses pixels, making the art look crisp in any zoom. But still\n",
       "                 it will take me a while to learn making svgs.\n",
       "             </p>\n",
       " </section>\n",
       " <section class=\"content-section container\">\n",
       " <h2 class=\"section-header\">ABOUT</h2>\n",
       " <img class=\"about-image\" src=\"images/ImComputing-min.gif\" width=\"300\"/>\n",
       " <p>\n",
       "                 Hello there, I'm <strong>Vem</strong>. the founder of this page.\n",
       "             </p>\n",
       " <p>\n",
       "                 This is my journey towards web dev, it has been a couple of days\n",
       "                 but this is still unfinished. I want to make an interactive about\n",
       "                 page where my infos are present.\n",
       "             </p>\n",
       " <p>\n",
       "                 This image here is me trying to learn, one of the recent art I made\n",
       "                 and I want to transform it, or rather remake it to an svg format, as\n",
       "                 it is currently in gif form. The advantages of svg is that its faster\n",
       "                 to processed by web and it is previewed as calculated vectors, instead\n",
       "                 of gifs which uses pixels, making the art look crisp in any zoom. But still\n",
       "                 it will take me a while to learn making svgs.\n",
       "             </p>\n",
       " </section>\n",
       " <section class=\"content-section container\">\n",
       " <h2 class=\"section-header\">ABOUT</h2>\n",
       " <img class=\"about-image\" src=\"images/ImComputing-min.gif\" width=\"300\"/>\n",
       " <p>\n",
       "                 Hello there, I'm <strong>Vem</strong>. the founder of this page.\n",
       "             </p>\n",
       " <p>\n",
       "                 This is my journey towards web dev, it has been a couple of days\n",
       "                 but this is still unfinished. I want to make an interactive about\n",
       "                 page where my infos are present.\n",
       "             </p>\n",
       " <p>\n",
       "                 This image here is me trying to learn, one of the recent art I made\n",
       "                 and I want to transform it, or rather remake it to an svg format, as\n",
       "                 it is currently in gif form. The advantages of svg is that its faster\n",
       "                 to processed by web and it is previewed as calculated vectors, instead\n",
       "                 of gifs which uses pixels, making the art look crisp in any zoom. But still\n",
       "                 it will take me a while to learn making svgs.\n",
       "             </p>\n",
       " </section>\n",
       " <section class=\"content-section container\">\n",
       " <h2 class=\"section-header\">ABOUT</h2>\n",
       " <img class=\"about-image\" src=\"images/ImComputing-min.gif\" width=\"300\"/>\n",
       " <p>\n",
       "                 Hello there, I'm <strong>Vem</strong>. the founder of this page.\n",
       "             </p>\n",
       " <p>\n",
       "                 This is my journey towards web dev, it has been a couple of days\n",
       "                 but this is still unfinished. I want to make an interactive about\n",
       "                 page where my infos are present.\n",
       "             </p>\n",
       " <p>\n",
       "                 This image here is me trying to learn, one of the recent art I made\n",
       "                 and I want to transform it, or rather remake it to an svg format, as\n",
       "                 it is currently in gif form. The advantages of svg is that its faster\n",
       "                 to processed by web and it is previewed as calculated vectors, instead\n",
       "                 of gifs which uses pixels, making the art look crisp in any zoom. But still\n",
       "                 it will take me a while to learn making svgs.\n",
       "             </p>\n",
       " </section>\n",
       " <section>\n",
       " <h2>My Playlist</h2>\n",
       " <div>\n",
       " <div>\n",
       " <span>Hello</span>&lt;&gt;\n",
       "                     <span>Blablbla</span>&lt;&gt;\n",
       "                     <button type=\"button\">Click</button>\n",
       " </div>\n",
       " <hr/>\n",
       " <div>\n",
       " <span>Hello</span>&lt;&gt;\n",
       "                     <span>Blablbla</span>&lt;&gt;\n",
       "                     <button type=\"button\">Click</button>\n",
       " </div>\n",
       " </div>\n",
       " </section>\n",
       " <footer>\n",
       " <div class=\"footer-container\">\n",
       " <div class=\"links\">\n",
       " <a href=\"https://github.com/VemAiensi\" target=\"_blank\">\n",
       " <svg class=\"icon\" fill=\"#ffffff\" stroke=\"#ffffff\" version=\"1.1\" viewbox=\"0 0 20.00 20.00\" xmlns=\"http://www.w3.org/2000/svg\" xmlns:xlink=\"http://www.w3.org/1999/xlink\">\n",
       " <g fill=\"none\" fill-rule=\"evenodd\" id=\"Page-1\" stroke=\"none\" stroke-width=\"1\">\n",
       " <g id=\"color\" transform=\"translate(-140.000000, -7559.000000)\">\n",
       " <g id=\"icons\" transform=\"translate(56.000000, 160.000000)\"> <path d=\"M94,7399 C99.523,7399 104,7403.59 104,7409.253 C104,7413.782 101.138,7417.624 97.167,7418.981 C96.66,7419.082 96.48,7418.762 96.48,7418.489 C96.48,7418.151 96.492,7417.047 96.492,7415.675 C96.492,7414.719 96.172,7414.095 95.813,7413.777 C98.04,7413.523 100.38,7412.656 100.38,7408.718 C100.38,7407.598 99.992,7406.684 99.35,7405.966 C99.454,7405.707 99.797,7404.664 99.252,7403.252 C99.252,7403.252 98.414,7402.977 96.505,7404.303 C95.706,7404.076 94.85,7403.962 94,7403.958 C93.15,7403.962 92.295,7404.076 91.497,7404.303 C89.586,7402.977 88.746,7403.252 88.746,7403.252 C88.203,7404.664 88.546,7405.707 88.649,7405.966 C88.01,7406.684 87.619,7407.598 87.619,7408.718 C87.619,7412.646 89.954,7413.526 92.175,7413.785 C91.889,7414.041 91.63,7414.493 91.54,7415.156 C90.97,7415.418 89.522,7415.871 88.63,7414.304 C88.63,7414.304 88.101,7413.319 87.097,7413.247 C87.097,7413.247 86.122,7413.234 87.029,7413.87 C87.029,7413.87 87.684,7414.185 88.139,7415.37 C88.139,7415.37 88.726,7417.2 91.508,7416.58 C91.513,7417.437 91.522,7418.245 91.522,7418.489 C91.522,7418.76 91.338,7419.077 90.839,7418.982 C86.865,7417.627 84,7413.783 84,7409.253 C84,7403.59 88.478,7399 94,7399\"> </path>\n",
       " </g></g> </g>\n",
       " </svg>\n",
       " <a href=\"https://web.facebook.com/profile.php?id=100055548079831\" target=\"_blank\">\n",
       " <svg class=\"bi bi-facebook\" viewbox=\"0 0 16 16\" xmlns=\"http://www.w3.org/2000/svg\">\n",
       " <g id=\"SVGRepo_bgCarrier\" stroke-width=\"0\"></g><g id=\"SVGRepo_tracerCarrier\" stroke-linecap=\"round\" stroke-linejoin=\"round\"></g>\n",
       " <g id=\"color\"> <path d=\"M16 8.049c0-4.446-3.582-8.05-8-8.05C3.58 0-.002 3.603-.002 8.05c0 4.017 2.926 7.347 6.75 7.951v-5.625h-2.03V8.05H6.75V6.275c0-2.017 1.195-3.131 3.022-3.131.876 0 1.791.157 1.791.157v1.98h-1.009c-.993 0-1.303.621-1.303 1.258v1.51h2.218l-.354 2.326H9.25V16c3.824-.604 6.75-3.934 6.75-7.951z\"></path> </g>\n",
       " </svg>\n",
       " </a>\n",
       " <a href=\"https://www.linkedin.com/in/vem-aiensi-a-marasigan-869027258/\" target=\"_blank\">\n",
       " <svg class=\"icon\" fill=\"#ffffff\" version=\"1.1\" viewbox=\"0 0 32 32\" xmlns=\"http://www.w3.org/2000/svg\"><g id=\"SVGRepo_bgCarrier\" stroke-width=\"0\"></g>\n",
       " <g id=\"SVGRepo_tracerCarrier\" stroke-linecap=\"round\" stroke-linejoin=\"round\"></g><g id=\"color\">\n",
       " <path d=\"M28.778 1.004h-25.56c-0.008-0-0.017-0-0.027-0-1.199 0-2.172 0.964-2.186 2.159v25.672c0.014 1.196 0.987 2.161 2.186 2.161 0.010 0 0.019-0 0.029-0h25.555c0.008 0 0.018 0 0.028 0 1.2 0 2.175-0.963 2.194-2.159l0-0.002v-25.67c-0.019-1.197-0.994-2.161-2.195-2.161-0.010 0-0.019 0-0.029 0h0.001zM9.9 26.562h-4.454v-14.311h4.454zM7.674 10.293c-1.425 0-2.579-1.155-2.579-2.579s1.155-2.579 2.579-2.579c1.424 0 2.579 1.154 2.579 2.578v0c0 0.001 0 0.002 0 0.004 0 1.423-1.154 2.577-2.577 2.577-0.001 0-0.002 0-0.003 0h0zM26.556 26.562h-4.441v-6.959c0-1.66-0.034-3.795-2.314-3.795-2.316 0-2.669 1.806-2.669 3.673v7.082h-4.441v-14.311h4.266v1.951h0.058c0.828-1.395 2.326-2.315 4.039-2.315 0.061 0 0.121 0.001 0.181 0.003l-0.009-0c4.5 0 5.332 2.962 5.332 6.817v7.855z\"></path> </g>\n",
       " </svg>\n",
       " </a>\n",
       " <a href=\"https://www.instagram.com/vem413n51/\" target=\"_blank\">\n",
       " <svg class=\"icon\" fill=\"#ffffff\" version=\"1.1\" viewbox=\"0 0 20 20\" xmlns=\"http://www.w3.org/2000/svg\" xmlns:xlink=\"http://www.w3.org/1999/xlink\"><g id=\"SVGRepo_bgCarrier\" stroke-width=\"0\"></g><g id=\"SVGRepo_tracerCarrier\" stroke-linecap=\"round\" stroke-linejoin=\"round\"></g><g id=\"SVGRepo_iconCarrier\"><defs> </defs> <g fill=\"none\" fill-rule=\"evenodd\" id=\"Page-1\" stroke=\"none\" stroke-width=\"1\">\n",
       " <g fill=\"#ffffff\" id=\"color\" transform=\"translate(-340.000000, -7439.000000)\"> <g id=\"icons\" transform=\"translate(56.000000, 160.000000)\"> <path d=\"M289.869652,7279.12273 C288.241769,7279.19618 286.830805,7279.5942 285.691486,7280.72871 C284.548187,7281.86918 284.155147,7283.28558 284.081514,7284.89653 C284.035742,7285.90201 283.768077,7293.49818 284.544207,7295.49028 C285.067597,7296.83422 286.098457,7297.86749 287.454694,7298.39256 C288.087538,7298.63872 288.809936,7298.80547 289.869652,7298.85411 C298.730467,7299.25511 302.015089,7299.03674 303.400182,7295.49028 C303.645956,7294.859 303.815113,7294.1374 303.86188,7293.08031 C304.26686,7284.19677 303.796207,7282.27117 302.251908,7280.72871 C301.027016,7279.50685 299.5862,7278.67508 289.869652,7279.12273 M289.951245,7297.06748 C288.981083,7297.0238 288.454707,7296.86201 288.103459,7296.72603 C287.219865,7296.3826 286.556174,7295.72155 286.214876,7294.84312 C285.623823,7293.32944 285.819846,7286.14023 285.872583,7284.97693 C285.924325,7283.83745 286.155174,7282.79624 286.959165,7281.99226 C287.954203,7280.99968 289.239792,7280.51332 297.993144,7280.90837 C299.135448,7280.95998 300.179243,7281.19026 300.985224,7281.99226 C301.980262,7282.98483 302.473801,7284.28014 302.071806,7292.99991 C302.028024,7293.96767 301.865833,7294.49274 301.729513,7294.84312 C300.829003,7297.15085 298.757333,7297.47145 289.951245,7297.06748 M298.089663,7283.68956 C298.089663,7284.34665 298.623998,7284.88065 299.283709,7284.88065 C299.943419,7284.88065 300.47875,7284.34665 300.47875,7283.68956 C300.47875,7283.03248 299.943419,7282.49847 299.283709,7282.49847 C298.623998,7282.49847 298.089663,7283.03248 298.089663,7283.68956 M288.862673,7288.98792 C288.862673,7291.80286 291.150266,7294.08479 293.972194,7294.08479 C296.794123,7294.08479 299.081716,7291.80286 299.081716,7288.98792 C299.081716,7286.17298 296.794123,7283.89205 293.972194,7283.89205 C291.150266,7283.89205 288.862673,7286.17298 288.862673,7288.98792 M290.655732,7288.98792 C290.655732,7287.16159 292.140329,7285.67967 293.972194,7285.67967 C295.80406,7285.67967 297.288657,7287.16159 297.288657,7288.98792 C297.288657,7290.81525 295.80406,7292.29716 293.972194,7292.29716 C292.140329,7292.29716 290.655732,7290.81525 290.655732,7288.98792\" id=\"instagram-[#ffffff]\"> </path> </g> </g> </g> </g></svg>\n",
       " </a>\n",
       " </a></div>\n",
       " </div>\n",
       " <div class=\"footerText\">\n",
       " <span>VibrantArrow @ 2024 All Rights Reserved</span>\n",
       " </div>\n",
       " </footer>\n",
       " </body>\n",
       " </html>,\n",
       " '\\n']"
      ]
     },
     "execution_count": 13,
     "metadata": {},
     "output_type": "execute_result"
    }
   ],
   "source": [
    "yummy.contents"
   ]
  },
  {
   "cell_type": "code",
   "execution_count": 14,
   "metadata": {},
   "outputs": [
    {
     "name": "stdout",
     "output_type": "stream",
     "text": [
      "<a href=\"arts.html\"><span class=\"navLink\">ARTS</span></a>\n",
      "<class 'bs4.element.Tag'>\n"
     ]
    }
   ],
   "source": [
    "tag_a = yummy.find('a')\n",
    "print(tag_a)\n",
    "print(type(tag_a))"
   ]
  },
  {
   "cell_type": "code",
   "execution_count": 15,
   "metadata": {},
   "outputs": [
    {
     "name": "stdout",
     "output_type": "stream",
     "text": [
      "<class 'bs4.element.ResultSet'>\n"
     ]
    }
   ],
   "source": [
    "tag_a = yummy.find_all('a')\n",
    "# print(tag_a)\n",
    "print(type(tag_a))"
   ]
  },
  {
   "cell_type": "code",
   "execution_count": 16,
   "metadata": {},
   "outputs": [
    {
     "name": "stdout",
     "output_type": "stream",
     "text": [
      "<div class=\"SiteTitle\">\n",
      "<img src=\"Assets/LogoV2White.svg\" width=\"50px/\"/>\n",
      "<span>VIBRANT ARROW</span>\n",
      "</div>\n"
     ]
    }
   ],
   "source": [
    "idValue = yummy.find('div')\n",
    "print(idValue)"
   ]
  },
  {
   "cell_type": "code",
   "execution_count": 17,
   "metadata": {},
   "outputs": [
    {
     "name": "stdout",
     "output_type": "stream",
     "text": [
      "VIBRANT ARROW\n"
     ]
    }
   ],
   "source": [
    "print(idValue.span.string)"
   ]
  },
  {
   "cell_type": "code",
   "execution_count": 18,
   "metadata": {},
   "outputs": [
    {
     "name": "stderr",
     "output_type": "stream",
     "text": [
      "C:\\Users\\vemai\\AppData\\Local\\Temp\\ipykernel_5720\\4144780927.py:1: DeprecationWarning: The 'text' argument to find()-type methods is deprecated. Use 'string' instead.\n",
      "  search_for_StringOnly=yummy.find_all(text=[\"ABOUT\"])\n"
     ]
    }
   ],
   "source": [
    "search_for_StringOnly=yummy.find_all(text=[\"ABOUT\"])"
   ]
  },
  {
   "cell_type": "code",
   "execution_count": 19,
   "metadata": {},
   "outputs": [
    {
     "name": "stdout",
     "output_type": "stream",
     "text": [
      "['ABOUT', 'ABOUT', 'ABOUT', 'ABOUT', 'ABOUT']\n"
     ]
    }
   ],
   "source": [
    "print(search_for_StringOnly)"
   ]
  },
  {
   "cell_type": "code",
   "execution_count": 20,
   "metadata": {},
   "outputs": [],
   "source": [
    "css_class_search = yummy.find_all(attrs = {\"class\":\"section-header\"})"
   ]
  },
  {
   "cell_type": "code",
   "execution_count": 21,
   "metadata": {},
   "outputs": [
    {
     "name": "stdout",
     "output_type": "stream",
     "text": [
      "[<h2 class=\"section-header\">ABOUT</h2>, <h2 class=\"section-header\">ABOUT</h2>, <h2 class=\"section-header\">ABOUT</h2>, <h2 class=\"section-header\">ABOUT</h2>]\n"
     ]
    }
   ],
   "source": [
    "print(css_class_search)"
   ]
  },
  {
   "cell_type": "code",
   "execution_count": 24,
   "metadata": {},
   "outputs": [],
   "source": [
    "# agh nakakabaliwww\n",
    "def is_it_weird(tag):\n",
    "    return tag.has_attr(\"id\") and tag.get(\"id\") == \"navigator\""
   ]
  },
  {
   "cell_type": "code",
   "execution_count": 27,
   "metadata": {},
   "outputs": [
    {
     "name": "stdout",
     "output_type": "stream",
     "text": [
      "<div class=\"navi\" id=\"navigator\">\n",
      "<span class=\"viewingPage\">HOME</span>\n",
      "<a href=\"arts.html\"><span class=\"navLink\">ARTS</span></a>\n",
      "<a href=\"about.html\"><span class=\"navLink\">ABOUT</span></a>\n",
      "<a href=\"blogs.html\"><span class=\"navLink\">BLOGS</span></a>\n",
      "</div>\n",
      "HOME\n"
     ]
    }
   ],
   "source": [
    "siteTitle_na_Weird = yummy.find(is_it_weird)\n",
    "print(siteTitle_na_Weird)\n",
    "print(siteTitle_na_Weird.span.string)"
   ]
  },
  {
   "cell_type": "code",
   "execution_count": 29,
   "metadata": {},
   "outputs": [
    {
     "name": "stdout",
     "output_type": "stream",
     "text": [
      "html\n",
      "head\n",
      "title\n",
      "link\n",
      "body\n",
      "header\n",
      "nav\n",
      "div\n",
      "img\n",
      "span\n",
      "div\n",
      "span\n",
      "a\n",
      "span\n",
      "a\n",
      "span\n",
      "a\n",
      "span\n",
      "section\n",
      "h2\n",
      "img\n",
      "p\n",
      "strong\n",
      "p\n",
      "p\n",
      "section\n",
      "h2\n",
      "img\n",
      "p\n",
      "strong\n",
      "p\n",
      "p\n",
      "section\n",
      "h2\n",
      "img\n",
      "p\n",
      "strong\n",
      "p\n",
      "p\n",
      "section\n",
      "h2\n",
      "img\n",
      "p\n",
      "strong\n",
      "p\n",
      "p\n",
      "section\n",
      "h2\n",
      "div\n",
      "div\n",
      "span\n",
      "span\n",
      "button\n",
      "hr\n",
      "div\n",
      "span\n",
      "span\n",
      "button\n",
      "footer\n",
      "div\n",
      "div\n",
      "a\n",
      "svg\n",
      "g\n",
      "g\n",
      "g\n",
      "path\n",
      "a\n",
      "svg\n",
      "g\n",
      "g\n",
      "g\n",
      "path\n",
      "a\n",
      "svg\n",
      "g\n",
      "g\n",
      "g\n",
      "path\n",
      "a\n",
      "svg\n",
      "g\n",
      "g\n",
      "g\n",
      "defs\n",
      "g\n",
      "g\n",
      "g\n",
      "path\n",
      "div\n",
      "span\n"
     ]
    }
   ],
   "source": [
    "for tag in yummy.findAll(True):\n",
    "    print(tag.name)"
   ]
  },
  {
   "cell_type": "code",
   "execution_count": 38,
   "metadata": {},
   "outputs": [],
   "source": [
    "find_class = yummy.find_all(class_ = \"section-header\")"
   ]
  },
  {
   "cell_type": "code",
   "execution_count": 42,
   "metadata": {},
   "outputs": [
    {
     "name": "stdout",
     "output_type": "stream",
     "text": [
      "<class 'bs4.element.ResultSet'>\n",
      "[<h2 class=\"section-header\">ABOUT</h2>, <h2 class=\"section-header\">ABOUT</h2>, <h2 class=\"section-header\">ABOUT</h2>, <h2 class=\"section-header\">ABOUT</h2>]\n"
     ]
    }
   ],
   "source": [
    "print(type(find_class))\n",
    "print(find_class)"
   ]
  },
  {
   "cell_type": "code",
   "execution_count": 46,
   "metadata": {},
   "outputs": [
    {
     "name": "stdout",
     "output_type": "stream",
     "text": [
      "<h2 class=\"section-header\">ABOUT</h2>\n"
     ]
    }
   ],
   "source": [
    "newWeird = find_class[0]\n",
    "print(newWeird)"
   ]
  },
  {
   "cell_type": "code",
   "execution_count": 49,
   "metadata": {},
   "outputs": [
    {
     "name": "stdout",
     "output_type": "stream",
     "text": [
      "[<section class=\"content-section container\">\n",
      "<h2 class=\"section-header\">ABOUT</h2>\n",
      "<img class=\"about-image\" src=\"images/ImComputing-min.gif\" width=\"300\"/>\n",
      "<p>\n",
      "                Hello there, I'm <strong>Vem</strong>. the founder of this page.\n",
      "            </p>\n",
      "<p>\n",
      "                This is my journey towards web dev, it has been a couple of days\n",
      "                but this is still unfinished. I want to make an interactive about\n",
      "                page where my infos are present.\n",
      "            </p>\n",
      "<p>\n",
      "                This image here is me trying to learn, one of the recent art I made\n",
      "                and I want to transform it, or rather remake it to an svg format, as\n",
      "                it is currently in gif form. The advantages of svg is that its faster\n",
      "                to processed by web and it is previewed as calculated vectors, instead\n",
      "                of gifs which uses pixels, making the art look crisp in any zoom. But still\n",
      "                it will take me a while to learn making svgs.\n",
      "            </p>\n",
      "</section>]\n"
     ]
    }
   ],
   "source": [
    "find_parent = newWeird.find_parents(\"section\")\n",
    "print(find_parent)"
   ]
  },
  {
   "cell_type": "code",
   "execution_count": 53,
   "metadata": {},
   "outputs": [
    {
     "name": "stdout",
     "output_type": "stream",
     "text": [
      "[<section class=\"content-section container\">\n",
      "<h2 class=\"section-header\">ABOUT</h2>\n",
      "<img class=\"about-image\" src=\"images/ImComputing-min.gif\" width=\"300\"/>\n",
      "<p>\n",
      "                Hello there, I'm <strong>Vem</strong>. the founder of this page.\n",
      "            </p>\n",
      "<p>\n",
      "                This is my journey towards web dev, it has been a couple of days\n",
      "                but this is still unfinished. I want to make an interactive about\n",
      "                page where my infos are present.\n",
      "            </p>\n",
      "<p>\n",
      "                This image here is me trying to learn, one of the recent art I made\n",
      "                and I want to transform it, or rather remake it to an svg format, as\n",
      "                it is currently in gif form. The advantages of svg is that its faster\n",
      "                to processed by web and it is previewed as calculated vectors, instead\n",
      "                of gifs which uses pixels, making the art look crisp in any zoom. But still\n",
      "                it will take me a while to learn making svgs.\n",
      "            </p>\n",
      "</section>, <span class=\"navLink\">BLOGS</span>, <a href=\"blogs.html\"><span class=\"navLink\">BLOGS</span></a>, <span class=\"navLink\">ABOUT</span>, <a href=\"about.html\"><span class=\"navLink\">ABOUT</span></a>, <span class=\"navLink\">ARTS</span>, <a href=\"arts.html\"><span class=\"navLink\">ARTS</span></a>, <span class=\"viewingPage\">HOME</span>, <div class=\"navi\" id=\"navigator\">\n",
      "<span class=\"viewingPage\">HOME</span>\n",
      "<a href=\"arts.html\"><span class=\"navLink\">ARTS</span></a>\n",
      "<a href=\"about.html\"><span class=\"navLink\">ABOUT</span></a>\n",
      "<a href=\"blogs.html\"><span class=\"navLink\">BLOGS</span></a>\n",
      "</div>, <span>VIBRANT ARROW</span>, <img src=\"Assets/LogoV2White.svg\" width=\"50px/\"/>, <div class=\"SiteTitle\">\n",
      "<img src=\"Assets/LogoV2White.svg\" width=\"50px/\"/>\n",
      "<span>VIBRANT ARROW</span>\n",
      "</div>, <nav>\n",
      "<div class=\"SiteTitle\">\n",
      "<img src=\"Assets/LogoV2White.svg\" width=\"50px/\"/>\n",
      "<span>VIBRANT ARROW</span>\n",
      "</div>\n",
      "<div class=\"navi\" id=\"navigator\">\n",
      "<span class=\"viewingPage\">HOME</span>\n",
      "<a href=\"arts.html\"><span class=\"navLink\">ARTS</span></a>\n",
      "<a href=\"about.html\"><span class=\"navLink\">ABOUT</span></a>\n",
      "<a href=\"blogs.html\"><span class=\"navLink\">BLOGS</span></a>\n",
      "</div>\n",
      "</nav>, <header>\n",
      "<nav>\n",
      "<div class=\"SiteTitle\">\n",
      "<img src=\"Assets/LogoV2White.svg\" width=\"50px/\"/>\n",
      "<span>VIBRANT ARROW</span>\n",
      "</div>\n",
      "<div class=\"navi\" id=\"navigator\">\n",
      "<span class=\"viewingPage\">HOME</span>\n",
      "<a href=\"arts.html\"><span class=\"navLink\">ARTS</span></a>\n",
      "<a href=\"about.html\"><span class=\"navLink\">ABOUT</span></a>\n",
      "<a href=\"blogs.html\"><span class=\"navLink\">BLOGS</span></a>\n",
      "</div>\n",
      "</nav>\n",
      "</header>, <body>\n",
      "<header>\n",
      "<nav>\n",
      "<div class=\"SiteTitle\">\n",
      "<img src=\"Assets/LogoV2White.svg\" width=\"50px/\"/>\n",
      "<span>VIBRANT ARROW</span>\n",
      "</div>\n",
      "<div class=\"navi\" id=\"navigator\">\n",
      "<span class=\"viewingPage\">HOME</span>\n",
      "<a href=\"arts.html\"><span class=\"navLink\">ARTS</span></a>\n",
      "<a href=\"about.html\"><span class=\"navLink\">ABOUT</span></a>\n",
      "<a href=\"blogs.html\"><span class=\"navLink\">BLOGS</span></a>\n",
      "</div>\n",
      "</nav>\n",
      "</header>\n",
      "<section class=\"content-section container\">\n",
      "<h2 class=\"section-header\">ABOUT</h2>\n",
      "<img class=\"about-image\" src=\"images/ImComputing-min.gif\" width=\"300\"/>\n",
      "<p>\n",
      "                Hello there, I'm <strong>Vem</strong>. the founder of this page.\n",
      "            </p>\n",
      "<p>\n",
      "                This is my journey towards web dev, it has been a couple of days\n",
      "                but this is still unfinished. I want to make an interactive about\n",
      "                page where my infos are present.\n",
      "            </p>\n",
      "<p>\n",
      "                This image here is me trying to learn, one of the recent art I made\n",
      "                and I want to transform it, or rather remake it to an svg format, as\n",
      "                it is currently in gif form. The advantages of svg is that its faster\n",
      "                to processed by web and it is previewed as calculated vectors, instead\n",
      "                of gifs which uses pixels, making the art look crisp in any zoom. But still\n",
      "                it will take me a while to learn making svgs.\n",
      "            </p>\n",
      "</section>\n",
      "<section class=\"content-section container\">\n",
      "<h2 class=\"section-header\">ABOUT</h2>\n",
      "<img class=\"about-image\" src=\"images/ImComputing-min.gif\" width=\"300\"/>\n",
      "<p>\n",
      "                Hello there, I'm <strong>Vem</strong>. the founder of this page.\n",
      "            </p>\n",
      "<p>\n",
      "                This is my journey towards web dev, it has been a couple of days\n",
      "                but this is still unfinished. I want to make an interactive about\n",
      "                page where my infos are present.\n",
      "            </p>\n",
      "<p>\n",
      "                This image here is me trying to learn, one of the recent art I made\n",
      "                and I want to transform it, or rather remake it to an svg format, as\n",
      "                it is currently in gif form. The advantages of svg is that its faster\n",
      "                to processed by web and it is previewed as calculated vectors, instead\n",
      "                of gifs which uses pixels, making the art look crisp in any zoom. But still\n",
      "                it will take me a while to learn making svgs.\n",
      "            </p>\n",
      "</section>\n",
      "<section class=\"content-section container\">\n",
      "<h2 class=\"section-header\">ABOUT</h2>\n",
      "<img class=\"about-image\" src=\"images/ImComputing-min.gif\" width=\"300\"/>\n",
      "<p>\n",
      "                Hello there, I'm <strong>Vem</strong>. the founder of this page.\n",
      "            </p>\n",
      "<p>\n",
      "                This is my journey towards web dev, it has been a couple of days\n",
      "                but this is still unfinished. I want to make an interactive about\n",
      "                page where my infos are present.\n",
      "            </p>\n",
      "<p>\n",
      "                This image here is me trying to learn, one of the recent art I made\n",
      "                and I want to transform it, or rather remake it to an svg format, as\n",
      "                it is currently in gif form. The advantages of svg is that its faster\n",
      "                to processed by web and it is previewed as calculated vectors, instead\n",
      "                of gifs which uses pixels, making the art look crisp in any zoom. But still\n",
      "                it will take me a while to learn making svgs.\n",
      "            </p>\n",
      "</section>\n",
      "<section class=\"content-section container\">\n",
      "<h2 class=\"section-header\">ABOUT</h2>\n",
      "<img class=\"about-image\" src=\"images/ImComputing-min.gif\" width=\"300\"/>\n",
      "<p>\n",
      "                Hello there, I'm <strong>Vem</strong>. the founder of this page.\n",
      "            </p>\n",
      "<p>\n",
      "                This is my journey towards web dev, it has been a couple of days\n",
      "                but this is still unfinished. I want to make an interactive about\n",
      "                page where my infos are present.\n",
      "            </p>\n",
      "<p>\n",
      "                This image here is me trying to learn, one of the recent art I made\n",
      "                and I want to transform it, or rather remake it to an svg format, as\n",
      "                it is currently in gif form. The advantages of svg is that its faster\n",
      "                to processed by web and it is previewed as calculated vectors, instead\n",
      "                of gifs which uses pixels, making the art look crisp in any zoom. But still\n",
      "                it will take me a while to learn making svgs.\n",
      "            </p>\n",
      "</section>\n",
      "<section>\n",
      "<h2>My Playlist</h2>\n",
      "<div>\n",
      "<div>\n",
      "<span>Hello</span>&lt;&gt;\n",
      "                    <span>Blablbla</span>&lt;&gt;\n",
      "                    <button type=\"button\">Click</button>\n",
      "</div>\n",
      "<hr/>\n",
      "<div>\n",
      "<span>Hello</span>&lt;&gt;\n",
      "                    <span>Blablbla</span>&lt;&gt;\n",
      "                    <button type=\"button\">Click</button>\n",
      "</div>\n",
      "</div>\n",
      "</section>\n",
      "<footer>\n",
      "<div class=\"footer-container\">\n",
      "<div class=\"links\">\n",
      "<a href=\"https://github.com/VemAiensi\" target=\"_blank\">\n",
      "<svg class=\"icon\" fill=\"#ffffff\" stroke=\"#ffffff\" version=\"1.1\" viewbox=\"0 0 20.00 20.00\" xmlns=\"http://www.w3.org/2000/svg\" xmlns:xlink=\"http://www.w3.org/1999/xlink\">\n",
      "<g fill=\"none\" fill-rule=\"evenodd\" id=\"Page-1\" stroke=\"none\" stroke-width=\"1\">\n",
      "<g id=\"color\" transform=\"translate(-140.000000, -7559.000000)\">\n",
      "<g id=\"icons\" transform=\"translate(56.000000, 160.000000)\"> <path d=\"M94,7399 C99.523,7399 104,7403.59 104,7409.253 C104,7413.782 101.138,7417.624 97.167,7418.981 C96.66,7419.082 96.48,7418.762 96.48,7418.489 C96.48,7418.151 96.492,7417.047 96.492,7415.675 C96.492,7414.719 96.172,7414.095 95.813,7413.777 C98.04,7413.523 100.38,7412.656 100.38,7408.718 C100.38,7407.598 99.992,7406.684 99.35,7405.966 C99.454,7405.707 99.797,7404.664 99.252,7403.252 C99.252,7403.252 98.414,7402.977 96.505,7404.303 C95.706,7404.076 94.85,7403.962 94,7403.958 C93.15,7403.962 92.295,7404.076 91.497,7404.303 C89.586,7402.977 88.746,7403.252 88.746,7403.252 C88.203,7404.664 88.546,7405.707 88.649,7405.966 C88.01,7406.684 87.619,7407.598 87.619,7408.718 C87.619,7412.646 89.954,7413.526 92.175,7413.785 C91.889,7414.041 91.63,7414.493 91.54,7415.156 C90.97,7415.418 89.522,7415.871 88.63,7414.304 C88.63,7414.304 88.101,7413.319 87.097,7413.247 C87.097,7413.247 86.122,7413.234 87.029,7413.87 C87.029,7413.87 87.684,7414.185 88.139,7415.37 C88.139,7415.37 88.726,7417.2 91.508,7416.58 C91.513,7417.437 91.522,7418.245 91.522,7418.489 C91.522,7418.76 91.338,7419.077 90.839,7418.982 C86.865,7417.627 84,7413.783 84,7409.253 C84,7403.59 88.478,7399 94,7399\"> </path>\n",
      "</g></g> </g>\n",
      "</svg>\n",
      "<a href=\"https://web.facebook.com/profile.php?id=100055548079831\" target=\"_blank\">\n",
      "<svg class=\"bi bi-facebook\" viewbox=\"0 0 16 16\" xmlns=\"http://www.w3.org/2000/svg\">\n",
      "<g id=\"SVGRepo_bgCarrier\" stroke-width=\"0\"></g><g id=\"SVGRepo_tracerCarrier\" stroke-linecap=\"round\" stroke-linejoin=\"round\"></g>\n",
      "<g id=\"color\"> <path d=\"M16 8.049c0-4.446-3.582-8.05-8-8.05C3.58 0-.002 3.603-.002 8.05c0 4.017 2.926 7.347 6.75 7.951v-5.625h-2.03V8.05H6.75V6.275c0-2.017 1.195-3.131 3.022-3.131.876 0 1.791.157 1.791.157v1.98h-1.009c-.993 0-1.303.621-1.303 1.258v1.51h2.218l-.354 2.326H9.25V16c3.824-.604 6.75-3.934 6.75-7.951z\"></path> </g>\n",
      "</svg>\n",
      "</a>\n",
      "<a href=\"https://www.linkedin.com/in/vem-aiensi-a-marasigan-869027258/\" target=\"_blank\">\n",
      "<svg class=\"icon\" fill=\"#ffffff\" version=\"1.1\" viewbox=\"0 0 32 32\" xmlns=\"http://www.w3.org/2000/svg\"><g id=\"SVGRepo_bgCarrier\" stroke-width=\"0\"></g>\n",
      "<g id=\"SVGRepo_tracerCarrier\" stroke-linecap=\"round\" stroke-linejoin=\"round\"></g><g id=\"color\">\n",
      "<path d=\"M28.778 1.004h-25.56c-0.008-0-0.017-0-0.027-0-1.199 0-2.172 0.964-2.186 2.159v25.672c0.014 1.196 0.987 2.161 2.186 2.161 0.010 0 0.019-0 0.029-0h25.555c0.008 0 0.018 0 0.028 0 1.2 0 2.175-0.963 2.194-2.159l0-0.002v-25.67c-0.019-1.197-0.994-2.161-2.195-2.161-0.010 0-0.019 0-0.029 0h0.001zM9.9 26.562h-4.454v-14.311h4.454zM7.674 10.293c-1.425 0-2.579-1.155-2.579-2.579s1.155-2.579 2.579-2.579c1.424 0 2.579 1.154 2.579 2.578v0c0 0.001 0 0.002 0 0.004 0 1.423-1.154 2.577-2.577 2.577-0.001 0-0.002 0-0.003 0h0zM26.556 26.562h-4.441v-6.959c0-1.66-0.034-3.795-2.314-3.795-2.316 0-2.669 1.806-2.669 3.673v7.082h-4.441v-14.311h4.266v1.951h0.058c0.828-1.395 2.326-2.315 4.039-2.315 0.061 0 0.121 0.001 0.181 0.003l-0.009-0c4.5 0 5.332 2.962 5.332 6.817v7.855z\"></path> </g>\n",
      "</svg>\n",
      "</a>\n",
      "<a href=\"https://www.instagram.com/vem413n51/\" target=\"_blank\">\n",
      "<svg class=\"icon\" fill=\"#ffffff\" version=\"1.1\" viewbox=\"0 0 20 20\" xmlns=\"http://www.w3.org/2000/svg\" xmlns:xlink=\"http://www.w3.org/1999/xlink\"><g id=\"SVGRepo_bgCarrier\" stroke-width=\"0\"></g><g id=\"SVGRepo_tracerCarrier\" stroke-linecap=\"round\" stroke-linejoin=\"round\"></g><g id=\"SVGRepo_iconCarrier\"><defs> </defs> <g fill=\"none\" fill-rule=\"evenodd\" id=\"Page-1\" stroke=\"none\" stroke-width=\"1\">\n",
      "<g fill=\"#ffffff\" id=\"color\" transform=\"translate(-340.000000, -7439.000000)\"> <g id=\"icons\" transform=\"translate(56.000000, 160.000000)\"> <path d=\"M289.869652,7279.12273 C288.241769,7279.19618 286.830805,7279.5942 285.691486,7280.72871 C284.548187,7281.86918 284.155147,7283.28558 284.081514,7284.89653 C284.035742,7285.90201 283.768077,7293.49818 284.544207,7295.49028 C285.067597,7296.83422 286.098457,7297.86749 287.454694,7298.39256 C288.087538,7298.63872 288.809936,7298.80547 289.869652,7298.85411 C298.730467,7299.25511 302.015089,7299.03674 303.400182,7295.49028 C303.645956,7294.859 303.815113,7294.1374 303.86188,7293.08031 C304.26686,7284.19677 303.796207,7282.27117 302.251908,7280.72871 C301.027016,7279.50685 299.5862,7278.67508 289.869652,7279.12273 M289.951245,7297.06748 C288.981083,7297.0238 288.454707,7296.86201 288.103459,7296.72603 C287.219865,7296.3826 286.556174,7295.72155 286.214876,7294.84312 C285.623823,7293.32944 285.819846,7286.14023 285.872583,7284.97693 C285.924325,7283.83745 286.155174,7282.79624 286.959165,7281.99226 C287.954203,7280.99968 289.239792,7280.51332 297.993144,7280.90837 C299.135448,7280.95998 300.179243,7281.19026 300.985224,7281.99226 C301.980262,7282.98483 302.473801,7284.28014 302.071806,7292.99991 C302.028024,7293.96767 301.865833,7294.49274 301.729513,7294.84312 C300.829003,7297.15085 298.757333,7297.47145 289.951245,7297.06748 M298.089663,7283.68956 C298.089663,7284.34665 298.623998,7284.88065 299.283709,7284.88065 C299.943419,7284.88065 300.47875,7284.34665 300.47875,7283.68956 C300.47875,7283.03248 299.943419,7282.49847 299.283709,7282.49847 C298.623998,7282.49847 298.089663,7283.03248 298.089663,7283.68956 M288.862673,7288.98792 C288.862673,7291.80286 291.150266,7294.08479 293.972194,7294.08479 C296.794123,7294.08479 299.081716,7291.80286 299.081716,7288.98792 C299.081716,7286.17298 296.794123,7283.89205 293.972194,7283.89205 C291.150266,7283.89205 288.862673,7286.17298 288.862673,7288.98792 M290.655732,7288.98792 C290.655732,7287.16159 292.140329,7285.67967 293.972194,7285.67967 C295.80406,7285.67967 297.288657,7287.16159 297.288657,7288.98792 C297.288657,7290.81525 295.80406,7292.29716 293.972194,7292.29716 C292.140329,7292.29716 290.655732,7290.81525 290.655732,7288.98792\" id=\"instagram-[#ffffff]\"> </path> </g> </g> </g> </g></svg>\n",
      "</a>\n",
      "</a></div>\n",
      "</div>\n",
      "<div class=\"footerText\">\n",
      "<span>VibrantArrow @ 2024 All Rights Reserved</span>\n",
      "</div>\n",
      "</footer>\n",
      "</body>, <link href=\"style.css\" rel=\"stylesheet\"/>, <title>Vibrant Arrow | Home</title>, <head>\n",
      "<title>Vibrant Arrow | Home</title>\n",
      "<link href=\"style.css\" rel=\"stylesheet\"/>\n",
      "</head>, <html>\n",
      "<head>\n",
      "<title>Vibrant Arrow | Home</title>\n",
      "<link href=\"style.css\" rel=\"stylesheet\"/>\n",
      "</head>\n",
      "<body>\n",
      "<header>\n",
      "<nav>\n",
      "<div class=\"SiteTitle\">\n",
      "<img src=\"Assets/LogoV2White.svg\" width=\"50px/\"/>\n",
      "<span>VIBRANT ARROW</span>\n",
      "</div>\n",
      "<div class=\"navi\" id=\"navigator\">\n",
      "<span class=\"viewingPage\">HOME</span>\n",
      "<a href=\"arts.html\"><span class=\"navLink\">ARTS</span></a>\n",
      "<a href=\"about.html\"><span class=\"navLink\">ABOUT</span></a>\n",
      "<a href=\"blogs.html\"><span class=\"navLink\">BLOGS</span></a>\n",
      "</div>\n",
      "</nav>\n",
      "</header>\n",
      "<section class=\"content-section container\">\n",
      "<h2 class=\"section-header\">ABOUT</h2>\n",
      "<img class=\"about-image\" src=\"images/ImComputing-min.gif\" width=\"300\"/>\n",
      "<p>\n",
      "                Hello there, I'm <strong>Vem</strong>. the founder of this page.\n",
      "            </p>\n",
      "<p>\n",
      "                This is my journey towards web dev, it has been a couple of days\n",
      "                but this is still unfinished. I want to make an interactive about\n",
      "                page where my infos are present.\n",
      "            </p>\n",
      "<p>\n",
      "                This image here is me trying to learn, one of the recent art I made\n",
      "                and I want to transform it, or rather remake it to an svg format, as\n",
      "                it is currently in gif form. The advantages of svg is that its faster\n",
      "                to processed by web and it is previewed as calculated vectors, instead\n",
      "                of gifs which uses pixels, making the art look crisp in any zoom. But still\n",
      "                it will take me a while to learn making svgs.\n",
      "            </p>\n",
      "</section>\n",
      "<section class=\"content-section container\">\n",
      "<h2 class=\"section-header\">ABOUT</h2>\n",
      "<img class=\"about-image\" src=\"images/ImComputing-min.gif\" width=\"300\"/>\n",
      "<p>\n",
      "                Hello there, I'm <strong>Vem</strong>. the founder of this page.\n",
      "            </p>\n",
      "<p>\n",
      "                This is my journey towards web dev, it has been a couple of days\n",
      "                but this is still unfinished. I want to make an interactive about\n",
      "                page where my infos are present.\n",
      "            </p>\n",
      "<p>\n",
      "                This image here is me trying to learn, one of the recent art I made\n",
      "                and I want to transform it, or rather remake it to an svg format, as\n",
      "                it is currently in gif form. The advantages of svg is that its faster\n",
      "                to processed by web and it is previewed as calculated vectors, instead\n",
      "                of gifs which uses pixels, making the art look crisp in any zoom. But still\n",
      "                it will take me a while to learn making svgs.\n",
      "            </p>\n",
      "</section>\n",
      "<section class=\"content-section container\">\n",
      "<h2 class=\"section-header\">ABOUT</h2>\n",
      "<img class=\"about-image\" src=\"images/ImComputing-min.gif\" width=\"300\"/>\n",
      "<p>\n",
      "                Hello there, I'm <strong>Vem</strong>. the founder of this page.\n",
      "            </p>\n",
      "<p>\n",
      "                This is my journey towards web dev, it has been a couple of days\n",
      "                but this is still unfinished. I want to make an interactive about\n",
      "                page where my infos are present.\n",
      "            </p>\n",
      "<p>\n",
      "                This image here is me trying to learn, one of the recent art I made\n",
      "                and I want to transform it, or rather remake it to an svg format, as\n",
      "                it is currently in gif form. The advantages of svg is that its faster\n",
      "                to processed by web and it is previewed as calculated vectors, instead\n",
      "                of gifs which uses pixels, making the art look crisp in any zoom. But still\n",
      "                it will take me a while to learn making svgs.\n",
      "            </p>\n",
      "</section>\n",
      "<section class=\"content-section container\">\n",
      "<h2 class=\"section-header\">ABOUT</h2>\n",
      "<img class=\"about-image\" src=\"images/ImComputing-min.gif\" width=\"300\"/>\n",
      "<p>\n",
      "                Hello there, I'm <strong>Vem</strong>. the founder of this page.\n",
      "            </p>\n",
      "<p>\n",
      "                This is my journey towards web dev, it has been a couple of days\n",
      "                but this is still unfinished. I want to make an interactive about\n",
      "                page where my infos are present.\n",
      "            </p>\n",
      "<p>\n",
      "                This image here is me trying to learn, one of the recent art I made\n",
      "                and I want to transform it, or rather remake it to an svg format, as\n",
      "                it is currently in gif form. The advantages of svg is that its faster\n",
      "                to processed by web and it is previewed as calculated vectors, instead\n",
      "                of gifs which uses pixels, making the art look crisp in any zoom. But still\n",
      "                it will take me a while to learn making svgs.\n",
      "            </p>\n",
      "</section>\n",
      "<section>\n",
      "<h2>My Playlist</h2>\n",
      "<div>\n",
      "<div>\n",
      "<span>Hello</span>&lt;&gt;\n",
      "                    <span>Blablbla</span>&lt;&gt;\n",
      "                    <button type=\"button\">Click</button>\n",
      "</div>\n",
      "<hr/>\n",
      "<div>\n",
      "<span>Hello</span>&lt;&gt;\n",
      "                    <span>Blablbla</span>&lt;&gt;\n",
      "                    <button type=\"button\">Click</button>\n",
      "</div>\n",
      "</div>\n",
      "</section>\n",
      "<footer>\n",
      "<div class=\"footer-container\">\n",
      "<div class=\"links\">\n",
      "<a href=\"https://github.com/VemAiensi\" target=\"_blank\">\n",
      "<svg class=\"icon\" fill=\"#ffffff\" stroke=\"#ffffff\" version=\"1.1\" viewbox=\"0 0 20.00 20.00\" xmlns=\"http://www.w3.org/2000/svg\" xmlns:xlink=\"http://www.w3.org/1999/xlink\">\n",
      "<g fill=\"none\" fill-rule=\"evenodd\" id=\"Page-1\" stroke=\"none\" stroke-width=\"1\">\n",
      "<g id=\"color\" transform=\"translate(-140.000000, -7559.000000)\">\n",
      "<g id=\"icons\" transform=\"translate(56.000000, 160.000000)\"> <path d=\"M94,7399 C99.523,7399 104,7403.59 104,7409.253 C104,7413.782 101.138,7417.624 97.167,7418.981 C96.66,7419.082 96.48,7418.762 96.48,7418.489 C96.48,7418.151 96.492,7417.047 96.492,7415.675 C96.492,7414.719 96.172,7414.095 95.813,7413.777 C98.04,7413.523 100.38,7412.656 100.38,7408.718 C100.38,7407.598 99.992,7406.684 99.35,7405.966 C99.454,7405.707 99.797,7404.664 99.252,7403.252 C99.252,7403.252 98.414,7402.977 96.505,7404.303 C95.706,7404.076 94.85,7403.962 94,7403.958 C93.15,7403.962 92.295,7404.076 91.497,7404.303 C89.586,7402.977 88.746,7403.252 88.746,7403.252 C88.203,7404.664 88.546,7405.707 88.649,7405.966 C88.01,7406.684 87.619,7407.598 87.619,7408.718 C87.619,7412.646 89.954,7413.526 92.175,7413.785 C91.889,7414.041 91.63,7414.493 91.54,7415.156 C90.97,7415.418 89.522,7415.871 88.63,7414.304 C88.63,7414.304 88.101,7413.319 87.097,7413.247 C87.097,7413.247 86.122,7413.234 87.029,7413.87 C87.029,7413.87 87.684,7414.185 88.139,7415.37 C88.139,7415.37 88.726,7417.2 91.508,7416.58 C91.513,7417.437 91.522,7418.245 91.522,7418.489 C91.522,7418.76 91.338,7419.077 90.839,7418.982 C86.865,7417.627 84,7413.783 84,7409.253 C84,7403.59 88.478,7399 94,7399\"> </path>\n",
      "</g></g> </g>\n",
      "</svg>\n",
      "<a href=\"https://web.facebook.com/profile.php?id=100055548079831\" target=\"_blank\">\n",
      "<svg class=\"bi bi-facebook\" viewbox=\"0 0 16 16\" xmlns=\"http://www.w3.org/2000/svg\">\n",
      "<g id=\"SVGRepo_bgCarrier\" stroke-width=\"0\"></g><g id=\"SVGRepo_tracerCarrier\" stroke-linecap=\"round\" stroke-linejoin=\"round\"></g>\n",
      "<g id=\"color\"> <path d=\"M16 8.049c0-4.446-3.582-8.05-8-8.05C3.58 0-.002 3.603-.002 8.05c0 4.017 2.926 7.347 6.75 7.951v-5.625h-2.03V8.05H6.75V6.275c0-2.017 1.195-3.131 3.022-3.131.876 0 1.791.157 1.791.157v1.98h-1.009c-.993 0-1.303.621-1.303 1.258v1.51h2.218l-.354 2.326H9.25V16c3.824-.604 6.75-3.934 6.75-7.951z\"></path> </g>\n",
      "</svg>\n",
      "</a>\n",
      "<a href=\"https://www.linkedin.com/in/vem-aiensi-a-marasigan-869027258/\" target=\"_blank\">\n",
      "<svg class=\"icon\" fill=\"#ffffff\" version=\"1.1\" viewbox=\"0 0 32 32\" xmlns=\"http://www.w3.org/2000/svg\"><g id=\"SVGRepo_bgCarrier\" stroke-width=\"0\"></g>\n",
      "<g id=\"SVGRepo_tracerCarrier\" stroke-linecap=\"round\" stroke-linejoin=\"round\"></g><g id=\"color\">\n",
      "<path d=\"M28.778 1.004h-25.56c-0.008-0-0.017-0-0.027-0-1.199 0-2.172 0.964-2.186 2.159v25.672c0.014 1.196 0.987 2.161 2.186 2.161 0.010 0 0.019-0 0.029-0h25.555c0.008 0 0.018 0 0.028 0 1.2 0 2.175-0.963 2.194-2.159l0-0.002v-25.67c-0.019-1.197-0.994-2.161-2.195-2.161-0.010 0-0.019 0-0.029 0h0.001zM9.9 26.562h-4.454v-14.311h4.454zM7.674 10.293c-1.425 0-2.579-1.155-2.579-2.579s1.155-2.579 2.579-2.579c1.424 0 2.579 1.154 2.579 2.578v0c0 0.001 0 0.002 0 0.004 0 1.423-1.154 2.577-2.577 2.577-0.001 0-0.002 0-0.003 0h0zM26.556 26.562h-4.441v-6.959c0-1.66-0.034-3.795-2.314-3.795-2.316 0-2.669 1.806-2.669 3.673v7.082h-4.441v-14.311h4.266v1.951h0.058c0.828-1.395 2.326-2.315 4.039-2.315 0.061 0 0.121 0.001 0.181 0.003l-0.009-0c4.5 0 5.332 2.962 5.332 6.817v7.855z\"></path> </g>\n",
      "</svg>\n",
      "</a>\n",
      "<a href=\"https://www.instagram.com/vem413n51/\" target=\"_blank\">\n",
      "<svg class=\"icon\" fill=\"#ffffff\" version=\"1.1\" viewbox=\"0 0 20 20\" xmlns=\"http://www.w3.org/2000/svg\" xmlns:xlink=\"http://www.w3.org/1999/xlink\"><g id=\"SVGRepo_bgCarrier\" stroke-width=\"0\"></g><g id=\"SVGRepo_tracerCarrier\" stroke-linecap=\"round\" stroke-linejoin=\"round\"></g><g id=\"SVGRepo_iconCarrier\"><defs> </defs> <g fill=\"none\" fill-rule=\"evenodd\" id=\"Page-1\" stroke=\"none\" stroke-width=\"1\">\n",
      "<g fill=\"#ffffff\" id=\"color\" transform=\"translate(-340.000000, -7439.000000)\"> <g id=\"icons\" transform=\"translate(56.000000, 160.000000)\"> <path d=\"M289.869652,7279.12273 C288.241769,7279.19618 286.830805,7279.5942 285.691486,7280.72871 C284.548187,7281.86918 284.155147,7283.28558 284.081514,7284.89653 C284.035742,7285.90201 283.768077,7293.49818 284.544207,7295.49028 C285.067597,7296.83422 286.098457,7297.86749 287.454694,7298.39256 C288.087538,7298.63872 288.809936,7298.80547 289.869652,7298.85411 C298.730467,7299.25511 302.015089,7299.03674 303.400182,7295.49028 C303.645956,7294.859 303.815113,7294.1374 303.86188,7293.08031 C304.26686,7284.19677 303.796207,7282.27117 302.251908,7280.72871 C301.027016,7279.50685 299.5862,7278.67508 289.869652,7279.12273 M289.951245,7297.06748 C288.981083,7297.0238 288.454707,7296.86201 288.103459,7296.72603 C287.219865,7296.3826 286.556174,7295.72155 286.214876,7294.84312 C285.623823,7293.32944 285.819846,7286.14023 285.872583,7284.97693 C285.924325,7283.83745 286.155174,7282.79624 286.959165,7281.99226 C287.954203,7280.99968 289.239792,7280.51332 297.993144,7280.90837 C299.135448,7280.95998 300.179243,7281.19026 300.985224,7281.99226 C301.980262,7282.98483 302.473801,7284.28014 302.071806,7292.99991 C302.028024,7293.96767 301.865833,7294.49274 301.729513,7294.84312 C300.829003,7297.15085 298.757333,7297.47145 289.951245,7297.06748 M298.089663,7283.68956 C298.089663,7284.34665 298.623998,7284.88065 299.283709,7284.88065 C299.943419,7284.88065 300.47875,7284.34665 300.47875,7283.68956 C300.47875,7283.03248 299.943419,7282.49847 299.283709,7282.49847 C298.623998,7282.49847 298.089663,7283.03248 298.089663,7283.68956 M288.862673,7288.98792 C288.862673,7291.80286 291.150266,7294.08479 293.972194,7294.08479 C296.794123,7294.08479 299.081716,7291.80286 299.081716,7288.98792 C299.081716,7286.17298 296.794123,7283.89205 293.972194,7283.89205 C291.150266,7283.89205 288.862673,7286.17298 288.862673,7288.98792 M290.655732,7288.98792 C290.655732,7287.16159 292.140329,7285.67967 293.972194,7285.67967 C295.80406,7285.67967 297.288657,7287.16159 297.288657,7288.98792 C297.288657,7290.81525 295.80406,7292.29716 293.972194,7292.29716 C292.140329,7292.29716 290.655732,7290.81525 290.655732,7288.98792\" id=\"instagram-[#ffffff]\"> </path> </g> </g> </g> </g></svg>\n",
      "</a>\n",
      "</a></div>\n",
      "</div>\n",
      "<div class=\"footerText\">\n",
      "<span>VibrantArrow @ 2024 All Rights Reserved</span>\n",
      "</div>\n",
      "</footer>\n",
      "</body>\n",
      "</html>]\n"
     ]
    }
   ],
   "source": [
    "print(newWeird.findAllPrevious())"
   ]
  },
  {
   "cell_type": "code",
   "execution_count": 54,
   "metadata": {},
   "outputs": [],
   "source": [
    "paragraphs = yummy.find_all(\"p\")"
   ]
  },
  {
   "cell_type": "code",
   "execution_count": 55,
   "metadata": {},
   "outputs": [
    {
     "data": {
      "text/plain": [
       "<p>\n",
       "                Hello there, I'm <strong>Vem</strong>. the founder of this page.\n",
       "            </p>"
      ]
     },
     "execution_count": 55,
     "metadata": {},
     "output_type": "execute_result"
    }
   ],
   "source": [
    "oneP = paragraphs[0]\n",
    "oneP"
   ]
  },
  {
   "cell_type": "code",
   "execution_count": 56,
   "metadata": {},
   "outputs": [
    {
     "data": {
      "text/plain": [
       "<p>\n",
       "                This is my journey towards web dev, it has been a couple of days\n",
       "                but this is still unfinished. I want to make an interactive about\n",
       "                page where my infos are present.\n",
       "            </p>"
      ]
     },
     "execution_count": 56,
     "metadata": {},
     "output_type": "execute_result"
    }
   ],
   "source": [
    "oneP.findNextSibling()"
   ]
  },
  {
   "cell_type": "code",
   "execution_count": null,
   "metadata": {},
   "outputs": [],
   "source": []
  }
 ],
 "metadata": {
  "kernelspec": {
   "display_name": "Python 3",
   "language": "python",
   "name": "python3"
  },
  "language_info": {
   "codemirror_mode": {
    "name": "ipython",
    "version": 3
   },
   "file_extension": ".py",
   "mimetype": "text/x-python",
   "name": "python",
   "nbconvert_exporter": "python",
   "pygments_lexer": "ipython3",
   "version": "3.12.4"
  }
 },
 "nbformat": 4,
 "nbformat_minor": 2
}
